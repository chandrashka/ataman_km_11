{
  "cells": [
    {
      "cell_type": "markdown",
      "metadata": {
        "id": "FMqboNwO4rVs"
      },
      "source": [
        "# **Курс \"Програмування на мові Python\"**"
      ]
    },
    {
      "cell_type": "markdown",
      "metadata": {
        "id": "A2T6MigL5Z06"
      },
      "source": [
        "## **Практичне зайняття №13**\n",
        "\n",
        "### Тема: \"Робота з файлами\""
      ]
    },
    {
      "cell_type": "markdown",
      "metadata": {
        "id": "cfCdgK2zXm7e"
      },
      "source": [
        "### **Завдання 1 (1,5 бали)**\n",
        "\n",
        "У 1939 році друком вийшов роман американського письменика Ернеста Вінсента Райта \"Ґетсбі\". Особливу увагу публіки він здобув через те, що письменник жодного разу не використав у романі літеру \"e\" (роман складається з більше ніж 50,000 слів), яка є найбільш вживаною літерою в англійській мові.\n",
        "\n",
        "Порахуйте кількість входжень кожної літери у текст роману. Виведіть список літер англійського алфавіту, а також інформацію про те, скільки відсотків від усіх літер тексту складає кожна літера алфавіту.\n",
        "\n",
        "Зауваження:\n",
        "\n",
        "1. Програма має ігнорувати будь-які символи, окрім літер.\n",
        "\n",
        "2. Переведіть усі літери у верхній або у нижній регістр.\n",
        "\n",
        "3. Під час виведення відсортуйте літери у порядку зменшення їхнього відсотка. Літера \"e\" має стояти на останньому місці у цьому списку (хоча кілька літер e там все ж таки зустрічається).\n",
        "\n",
        "4. Виведіть перші 5 та останні 5 літер відсортованого списку разом з відсотковими значеннями, що їм відповідають. Відсотки округліть до тисячних."
      ]
    },
    {
      "cell_type": "code",
      "execution_count": 16,
      "metadata": {
        "id": "u4-fHJJ6U462",
        "tags": [
          "outputPrepend"
        ]
      },
      "outputs": [
        {
          "name": "stdout",
          "output_type": "stream",
          "text": [
            "first 5 most used letters and 5 least used letters \n",
            "in novel by Ernest Vincent Wright 'Gatsby'\n",
            "1 ) a  =  10.952 % \n",
            "2 ) o  =  10.419 % \n",
            "3 ) i  =  8.826 % \n",
            "4 ) n  =  8.599 % \n",
            "5 ) t  =  8.494 % \n",
            "22 ) j  =  0.23 % \n",
            "23 ) z  =  0.108 % \n",
            "24 ) x  =  0.079 % \n",
            "25 ) q  =  0.051 % \n",
            "26 ) e  =  0.002 % \n"
          ]
        }
      ],
      "source": [
        "import string\n",
        "def sort_list(lst):\n",
        "    num = []\n",
        "    for i in lst:\n",
        "        if type(i) == int:\n",
        "            num.append(i)\n",
        "    num.sort(reverse=True)\n",
        "    final = []\n",
        "    for i in num:\n",
        "        final.append(lst[lst.index(i)-1])\n",
        "        final.append(round((i/let_sum)*100, 3))\n",
        "    return final\n",
        "                \n",
        "with open('gadsby.txt', 'r') as awful:\n",
        "    letters = []\n",
        "    for i in string.ascii_lowercase:\n",
        "        letters.append(i)\n",
        "        letters.append(0)\n",
        "    let_sum = 0\n",
        "    p = 0\n",
        "    for line in awful:\n",
        "        if p > 117:\n",
        "            line = line.lower()\n",
        "            for i in line:\n",
        "                if i in letters:\n",
        "                    let_sum += 1\n",
        "                    letters[letters.index(i)+1] += 1\n",
        "        p += 1\n",
        "    \n",
        "ok = sort_list(letters)\n",
        "\n",
        "o = 0\n",
        "a = 1\n",
        "print(\"first 5 most used letters and 5 least used letters \\nin novel by Ernest Vincent Wright 'Gatsby'\")\n",
        "for i in ok:\n",
        "    if (o <= 9 or o >= 43) and type(i) == float:\n",
        "        print(a, ')',ok[ok.index(i)-1], ' = ', i, '%','\\n', end = '')\n",
        "    if o % 2 != 0:\n",
        "        a +=1\n",
        "\n",
        "    o +=1    "
      ]
    },
    {
      "cell_type": "markdown",
      "metadata": {
        "id": "A34oz70eU463"
      },
      "source": [
        "### **Завдання 2 (1,5 бали)**\n",
        "\n",
        "Архів archive.zip містить 140 txt-файлів, в яких збережено інфорамцію про те, якими іменами називали дітей у США в період з 1880 по 2019 рік.\n",
        "\n",
        "Структура рядка кожного файлу така:\n",
        "\n",
        "*name,sex,number_of_occurrences*\n",
        "\n",
        "Напишіть програму, яка зчитуватиме кожен файл та визначатиме окремо чоловічі, окремо жіночі імена, що були найпопулярнішими хоча б в один з років. Далі програма повинна підраховувати, скільки разів кожне з цих імен ставало найпопулярнишим, та виводити ранжовані списки чоловічіх та жіночих імен у вигляді:\n",
        "\n",
        "```\n",
        "Michael 44\n",
        "John 44\n",
        "Robert 17\n",
        "...\n",
        "\n",
        "Mary 76\n",
        "Jennifer 15\n",
        "Emily 12\n",
        "...\n",
        "```"
      ]
    },
    {
      "cell_type": "code",
      "execution_count": 15,
      "metadata": {},
      "outputs": [
        {
          "name": "stdout",
          "output_type": "stream",
          "text": [
            "John 44\n",
            "Robert 17\n",
            "James 13\n",
            "Michael 44\n",
            "David 1\n",
            "Jacob 14\n",
            "Noah 4\n",
            "Liam 3\n",
            "Mary 76\n",
            "Emma 6\n",
            "Emily 12\n",
            "Sophia 3\n",
            "Isabella 2\n",
            "Olivia 1\n",
            "Linda 6\n",
            "Jessica 9\n",
            "Lisa 8\n",
            "Jennifer 15\n",
            "Ashley 2\n"
          ]
        }
      ],
      "source": [
        "import os\n",
        "boys = {}\n",
        "girls = {}\n",
        "for i in range(140):\n",
        "\n",
        "    path = os.path.abspath('yob' + str(1880+i) + '.txt')#сработает, только если файлы с именами в той же папке, что и програма\n",
        "    b = 0\n",
        "    g = 0\n",
        "    with open(path) as الثعبان:\n",
        "        for line in الثعبان:\n",
        "            if b == 0 or g == 0:\n",
        "                suo = line.index(',')\n",
        "                name = line[:suo]\n",
        "                line = line[suo+1:]\n",
        "                sex = line[0]\n",
        "                num = line[2:-1]    \n",
        "                if sex == \"M\":\n",
        "                    if name not in boys:\n",
        "                        bo = {name:0}\n",
        "                        boys.update(bo)\n",
        "                    if b == 0:\n",
        "                        boys[name] += 1\n",
        "                    b += 1\n",
        "                else:\n",
        "                    if name not in girls:\n",
        "                        gi = {name:0}\n",
        "                        girls.update(gi)\n",
        "                    if g == 0:\n",
        "                        girls[name] += 1\n",
        "                    g += 1\n",
        "for i in boys:\n",
        "    if boys[i] != 0:\n",
        "        print(i, boys[i])\n",
        "for i in girls:\n",
        "    if girls[i] != 0:\n",
        "        print(i, girls[i])                      \n"
      ]
    }
  ],
  "metadata": {
    "colab": {
      "collapsed_sections": [],
      "name": "Practice_14_KM_01.ipynb",
      "provenance": []
    },
    "kernelspec": {
      "display_name": "Python 3",
      "name": "python3"
    },
    "language_info": {
      "codemirror_mode": {
        "name": "ipython",
        "version": 3
      },
      "file_extension": ".py",
      "mimetype": "text/x-python",
      "name": "python",
      "nbconvert_exporter": "python",
      "pygments_lexer": "ipython3",
      "version": "3.9.7"
    }
  },
  "nbformat": 4,
  "nbformat_minor": 0
}
