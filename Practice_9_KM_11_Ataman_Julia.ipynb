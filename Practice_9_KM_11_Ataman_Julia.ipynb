{
  "cells": [
    {
      "cell_type": "markdown",
      "metadata": {
        "id": "FMqboNwO4rVs"
      },
      "source": [
        "# **Курс \"Програмування на мові Python\"**"
      ]
    },
    {
      "cell_type": "markdown",
      "metadata": {
        "id": "A2T6MigL5Z06"
      },
      "source": [
        "## **Практичне зайняття №9**\n",
        "\n",
        "### Тема: \"Робота з функціями. Локальні та глобальні змінні\""
      ]
    },
    {
      "cell_type": "markdown",
      "metadata": {
        "id": "cfCdgK2zXm7e"
      },
      "source": [
        "### **Завдання 1 (3 бали)**\n",
        "\n",
        "**Підрахувати визначник матриці, використовуючи правило перестановок.**\n",
        "\n",
        "Функція random_matrix() призначена для створення квадратної матриці випадкових чисел. Її змінювати непотрібно.\n",
        "\n",
        "Приклад використання методу permutations() для створення списку перестановок також подається у комірці з кодом.\n",
        "\n",
        "1) Створити 3 функції: функцію створення списку перестановок, функцію підрахунку добутків та функцію підрахунку загальної суми.\n",
        "\n",
        "2) Кожна функція має супроводжуватись рядком документації, що буде коротко описувати її призначення.\n",
        "\n",
        "3) Розмірність квадратної матриці має вводитись користувачем з клавіатури. Підрахунки виконувати лише в тому разі, якщо користувач введе ціле додатне число.\n",
        "\n",
        "4) Загальний результат повинен підраховуватись за допомогою композиції функцій.\n",
        "\n",
        "За бажанням можна перевірити правильність роботи програми за допомогою функції np.linalg.det(a)."
      ]
    },
    {
      "cell_type": "code",
      "execution_count": null,
      "metadata": {
        "id": "ifNX2M7LXm7f"
      },
      "outputs": [],
      "source": [
        "import numpy as np\n",
        "import itertools\n",
        "\n",
        "def random_matrix(dim):\n",
        "    \"\"\"\n",
        "    The function generates dim x dim array of integers\n",
        "    between 0 and 10.\n",
        "    \"\"\"\n",
        "    matrix = np.random.randint(10, size = (dim, dim))\n",
        "    return matrix\n",
        "\n",
        "def permut(n):\n",
        "    #Функція обчислює всі можливі комбінації чисел починаючи з 1 і до введеного числа\n",
        "    a = \"\"\n",
        "    for i in range(1, n+1):\n",
        "        a += str(i)\n",
        "    matrix_permutations = list(itertools.permutations(a, n))\n",
        "    return matrix_permutations\n",
        "def products(permutations, matrix):\n",
        "    #Функція рахує добутки елементів матриці\n",
        "    sign = []\n",
        "    for i in range(factorial):\n",
        "        #Спочатку обчислюємо знак + або - для кожного добутку окремо\n",
        "        b = list(permutations[i])\n",
        "        p = 1\n",
        "        for j in range(len(b)):\n",
        "            ok = True\n",
        "            u = j\n",
        "            while ok:\n",
        "                if u == len(b):\n",
        "                    ok = False\n",
        "                elif (b[j] > b[u]) and (b[j] != b[u]): #Якщо елемент більше за наступний, потрібно змінити знак на протилежний\n",
        "                    p *= -1                            #Таким чином перевірємо всі наступні елементи для кожного елемента рядка\n",
        "                    u += 1\n",
        "                else:\n",
        "                    u +=1\n",
        "        sign += [p]\n",
        "    products = []\n",
        "    for i in range(factorial):\n",
        "        #Рахуємо самі добутки елементів\n",
        "        prod = 1\n",
        "        k = list(permutations[i])\n",
        "        p = 0\n",
        "        for j in range(len(k)):\n",
        "            a = int(k[j]) - 1\n",
        "            prod *= matrix[p][a] #Перший індекс відповідає за стовпечики(ми їх беремо з першого по останній послідовно)\n",
        "            p +=1                #Другий індекс відповідає за рядок(підставляємо відповідно числа з усіх можливих комбінацій)\n",
        "        products += [prod]\n",
        "    final_products = []\n",
        "    for i in range(len(sign)):\n",
        "        final_products += [products[i]*sign[i]] #Множимо добутки на їх знак\n",
        "    return final_products\n",
        "def final_sum(products):\n",
        "    #Фунція послідно додає/віднімає добутки елементів \n",
        "    final_sum = 0\n",
        "    for i in products:\n",
        "        final_sum += i\n",
        "    return final_sum\n",
        "def is_int(x):\n",
        "    #Перевірка введення користувача, якщо введено ціле додатнє число, функція повертає True, для будь-якого іншого введення - False\n",
        "    try:\n",
        "        int(x)\n",
        "    except ValueError:\n",
        "        return False\n",
        "    if int(x) > 0:\n",
        "        return True\n",
        "    else:\n",
        "        return False\n",
        "n = input(\"Enter the dimension of the matrix: \")\n",
        "if is_int(n):\n",
        "    n = int(n)\n",
        "    matrix = random_matrix(n)\n",
        "    factorial = 1\n",
        "    for i in range(1, n+1): #Обчислюємо факторіал, щоб знати кількість перестановок\n",
        "        factorial *= i\n",
        "    FINALLY = final_sum(products(permut(n), matrix)) #Нарешті обчислюємо кінцевий результат композиццією 3 функцій\n",
        "    print(\"Matrix: \")\n",
        "    print(matrix)\n",
        "    print(\"The determinant = \", FINALLY)\n",
        "    print(\"Checking the determinant by function in Python: \", np.linalg.det(matrix))\n",
        "else:\n",
        "    print(\"it is impossible to calculate the determinant from your input\")"
      ]
    }
  ],
  "metadata": {
    "colab": {
      "collapsed_sections": [],
      "name": "Practice_7_KM-01_.ipynb",
      "provenance": []
    },
    "interpreter": {
      "hash": "b89b5cfaba6639976dc87ff2fec6d58faec662063367e2c229c520fe71072417"
    },
    "kernelspec": {
      "display_name": "Python 3.10.0 64-bit",
      "name": "python3"
    },
    "language_info": {
      "codemirror_mode": {
        "name": "ipython",
        "version": 3
      },
      "file_extension": ".py",
      "mimetype": "text/x-python",
      "name": "python",
      "nbconvert_exporter": "python",
      "pygments_lexer": "ipython3",
      "version": "3.10.0"
    }
  },
  "nbformat": 4,
  "nbformat_minor": 0
}
