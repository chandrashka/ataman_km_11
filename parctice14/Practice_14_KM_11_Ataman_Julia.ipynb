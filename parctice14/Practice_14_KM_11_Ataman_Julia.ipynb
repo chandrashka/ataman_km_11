{
  "cells": [
    {
      "cell_type": "markdown",
      "metadata": {
        "id": "FMqboNwO4rVs"
      },
      "source": [
        "# **Курс \"Програмування на мові Python\"**"
      ]
    },
    {
      "cell_type": "markdown",
      "metadata": {
        "id": "A2T6MigL5Z06"
      },
      "source": [
        "## **Практичне зайняття №14**\n",
        "\n",
        "### Тема: \"Робота зі спеціальними форматами файлів\""
      ]
    },
    {
      "cell_type": "markdown",
      "metadata": {
        "id": "A34oz70eU463"
      },
      "source": [
        "### **Завдання 1 (1,5 бали)**\n",
        "\n",
        "Створіть CSV-файл, що буде містити від 5 до 10 пісень (творів) вашого улюбленого музиканта. Назва файлу - ім'я музиканта (композитора) або назва гурту.\n",
        "\n",
        "1. Обов'язково додайте до файлу рядок з назвами двох колонок (Song, Year) або (Composition, Year).\n",
        "\n",
        "2. Після запису файлу роздрукуйте назву файлу та усі наявні у файлі рядки (включно із заголовками).\n",
        "\n",
        "3. Для запису та зчитування рядків скористайтесь функціями csv.DictWriter() та csv.DictReader()."
      ]
    },
    {
      "cell_type": "code",
      "execution_count": 2,
      "metadata": {
        "id": "MEJIrG1GU463"
      },
      "outputs": [
        {
          "name": "stdout",
          "output_type": "stream",
          "text": [
            "Valentin_Strykalo.csv\n",
            "Song Year\n",
            "Кайен 2010\n",
            "Бесполезно 2016\n",
            "Всё решено 2012\n",
            "Песня для девочек 2012\n",
            "Наше лето 2011\n",
            "Улица сталеваров 2016\n",
            "Подворотня - мой дом 2016\n"
          ]
        }
      ],
      "source": [
        "import csv\n",
        "with open('Valentin_Strykalo.csv', 'w', newline='', encoding='UTF8') as file:\n",
        "    fieldnames = ['Song', 'Year']\n",
        "    writer = csv.DictWriter(file, fieldnames=fieldnames)\n",
        "    writer.writeheader()\n",
        "    songs = [\"Кайен\", \"Бесполезно\", \"Всё решено\", \"Песня для девочек\", \"Наше лето\", \"Улица сталеваров\", \"Подворотня - мой дом\"]\n",
        "    years = [2010, 2016, 2012, 2012, 2011, 2016, 2016]\n",
        "    for i in range(len(songs)):\n",
        "        writer.writerow({'Song': songs[i],\n",
        "                        'Year': years[i]})\n",
        "with open('Valentin_Strykalo.csv', 'r', newline='', encoding='UTF8') as file:\n",
        "    reader = csv.DictReader(file)\n",
        "    print(\"Valentin_Strykalo.csv\")\n",
        "    print(*fieldnames)\n",
        "    for row in reader:\n",
        "        print(row[\"Song\"], row['Year'])\n",
        "    "
      ]
    },
    {
      "cell_type": "markdown",
      "metadata": {
        "id": "Jb-eSBsWU464"
      },
      "source": [
        "### **Завдання 2 (1,5 бали)**\n",
        "\n",
        "COCO Dataset - набір фотографій та анотацій до них. Його дуже часто використовують для тренування класифікаторів, призначених для розпізнавання об'єктів та визначення ключових точок на зображеннях.\n",
        "\n",
        "Завантажте файли з описом фотографій COCO Dataset за посиланням: [COCO Dataset](http://images.cocodataset.org/annotations/image_info_test2017.zip).\n",
        "\n",
        "Відкрийте файл image_info_test-dev2017.json. Інформація про фотографії з бази COCO міститься у полі \"images\". Інформація про категорії, на які розділені всі фотографії, міститься у полі \"categories\".\n",
        "\n",
        "1. Визначте кількість фотографій, інформацію про які можна знайти у цьому файлі (кількість елементів, що відповідають ключу \"images\").\n",
        "\n",
        "2. Визначте кількість наявних категорій (кількість елементів, що відповідають ключу \"categories\").\n",
        "\n",
        "3. Виведіть посилання на фотографію 000000000001.jpg (\"coco_url\"). Також виведіть висоту цієї фотографії (\"height\"), ширину (\"width\") та її ідентифікатор (\"id\").\n",
        "\n",
        "4. Виведіть назву фотографії з набільшим номером.\n",
        "\n",
        "Опис структури JSON-файлу для набору фотографій COCO можна знайти за посиланням: [Data format](https://cocodataset.org/#format-data).\n",
        "\n",
        "Щоб перевірити правильність результатів, у VS Code встановіть розширення JSON та відкрийте файл image_info_test-dev2017.json. Розширення автоматично визначає кількість елементів у кожному полі."
      ]
    },
    {
      "cell_type": "code",
      "execution_count": 25,
      "metadata": {},
      "outputs": [
        {
          "name": "stdout",
          "output_type": "stream",
          "text": [
            "Кількість фотографій у файлі: 20288\n",
            "\n",
            "Кількість наявних категорій: 80\n",
            "\n",
            "Посилання на фотографію: http://images.cocodataset.org/test2017/000000000001.jpg\n",
            "Розмір фотографії: 480х640\n",
            "Ідентифікатор фотографії: 1\n",
            "\n",
            "Фотографія з найбільшим номером: http://images.cocodataset.org/test2017/00000581918.jpg\n"
          ]
        }
      ],
      "source": [
        "import json\n",
        "with open('annotations\\image_info_test-dev2017.json', 'r') as file:\n",
        "    NUM = []\n",
        "    data = json.load(file)\n",
        "    images = data['images']\n",
        "    for i in images:\n",
        "        if '000000000001.jpg' in i['coco_url']:\n",
        "            link = i['coco_url']\n",
        "            height = i['height']\n",
        "            width = i['width']\n",
        "            id = i['id']\n",
        "        NUM.append(int((i['coco_url'])[39:-4]))\n",
        "    maxximum = str(max(NUM))\n",
        "    while len(maxximum) != 11:\n",
        "        maxximum = '0'+maxximum\n",
        "\n",
        "\n",
        "\n",
        "\n",
        "\n",
        "print(\"Кількість фотографій у файлі:\", len(images))\n",
        "print()\n",
        "print(\"Кількість наявних категорій:\", len(data['categories']))\n",
        "print()\n",
        "print(\"Посилання на фотографію: \", link, '\\n','Розмір фотографії: ', height,\"х\", width,'\\n','Ідентифікатор фотографії: ', id, sep = '')\n",
        "print()\n",
        "print(\"Фотографія з найбільшим номером: http://images.cocodataset.org/test2017/\", maxximum,\".jpg\", sep ='')\n"
      ]
    }
  ],
  "metadata": {
    "colab": {
      "collapsed_sections": [],
      "name": "Practice_14_KM_01.ipynb",
      "provenance": []
    },
    "kernelspec": {
      "display_name": "Python 3",
      "name": "python3"
    },
    "language_info": {
      "codemirror_mode": {
        "name": "ipython",
        "version": 3
      },
      "file_extension": ".py",
      "mimetype": "text/x-python",
      "name": "python",
      "nbconvert_exporter": "python",
      "pygments_lexer": "ipython3",
      "version": "3.9.7"
    }
  },
  "nbformat": 4,
  "nbformat_minor": 0
}
